{
 "cells": [
  {
   "cell_type": "code",
   "execution_count": 1,
   "metadata": {},
   "outputs": [
    {
     "name": "stderr",
     "output_type": "stream",
     "text": [
      "/home/diego/.local/lib/python3.8/site-packages/scipy/__init__.py:146: UserWarning: A NumPy version >=1.16.5 and <1.23.0 is required for this version of SciPy (detected version 1.24.4\n",
      "  warnings.warn(f\"A NumPy version >={np_minversion} and <{np_maxversion}\"\n"
     ]
    },
    {
     "name": "stdout",
     "output_type": "stream",
     "text": [
      "Tabla guardada en subjects_roi_timepoints_stats.csv\n",
      "\n",
      "Resumen N_timepoints:\n",
      "count    352.000000\n",
      "mean     180.252841\n",
      "std       26.479606\n",
      "min      140.000000\n",
      "25%      140.000000\n",
      "50%      197.000000\n",
      "75%      197.000000\n",
      "max      200.000000\n",
      "Name: N_timepoints, dtype: float64\n",
      "\n",
      "Resumen N_ROIs:\n",
      "count    352.0\n",
      "mean     116.0\n",
      "std        0.0\n",
      "min      116.0\n",
      "25%      116.0\n",
      "50%      116.0\n",
      "75%      116.0\n",
      "max      116.0\n",
      "Name: N_ROIs, dtype: float64\n"
     ]
    },
    {
     "data": {
      "image/png": "[encoded data removed]",
      "text/plain": [
       "<Figure size 720x288 with 2 Axes>"
      ]
     },
     "metadata": {
      "needs_background": "light"
     },
     "output_type": "display_data"
    }
   ],
   "source": [
    "import os\n",
    "import pandas as pd\n",
    "import numpy as np\n",
    "import scipy.io as sio\n",
    "from pathlib import Path\n",
    "import matplotlib.pyplot as plt\n",
    "\n",
    "# ==== CONFIGURACIÓN ====\n",
    "subject_csv = '/home/diego/Escritorio/desde_cero/AAL_116/DataBaseSubjects.csv'\n",
    "roi_signals_dir = '/home/diego/Escritorio/desde_cero/AAL_116/ROISignals'\n",
    "roi_filename_template = 'ROISignals_{subject_id}.mat'\n",
    "output_csv = 'subjects_roi_timepoints_stats.csv'\n",
    "\n",
    "# ==== LEER LISTA DE SUJETOS ====\n",
    "subjects_df = pd.read_csv(subject_csv)\n",
    "subjects_df['SubjectID'] = subjects_df['SubjectID'].astype(str).str.strip()\n",
    "subject_ids = subjects_df['SubjectID'].tolist()\n",
    "\n",
    "# ==== RECORRER CADA SUJETO Y LEER .mat ====\n",
    "results = []\n",
    "\n",
    "for sid in subject_ids:\n",
    "    mat_path = Path(roi_signals_dir) / roi_filename_template.format(subject_id=sid)\n",
    "    if not mat_path.exists():\n",
    "        print(f'[WARN] No encontrado: {mat_path}')\n",
    "        continue\n",
    "    try:\n",
    "        data = sio.loadmat(mat_path)\n",
    "        loaded_sigs = data.get(\"ROISignals\", data.get(\"signals\", data.get(\"roi_signals\", data.get(\"ROIsignals\")))\n",
    "        )\n",
    "        if loaded_sigs is None:\n",
    "            print(f'[WARN] No señales en: {mat_path}')\n",
    "            continue\n",
    "        # Forzar matriz 2D\n",
    "        if loaded_sigs.ndim == 1:\n",
    "            loaded_sigs = loaded_sigs[:, np.newaxis]\n",
    "        if loaded_sigs.shape[0] < loaded_sigs.shape[1] and loaded_sigs.shape[0] > 1:\n",
    "            loaded_sigs = loaded_sigs.T\n",
    "        T, N = loaded_sigs.shape\n",
    "        results.append({'SubjectID': sid, 'N_timepoints': T, 'N_ROIs': N, 'mat_path': str(mat_path)})\n",
    "    except Exception as e:\n",
    "        print(f'[ERROR] {sid}: {e}')\n",
    "\n",
    "# ==== CREAR DATAFRAME Y GUARDAR ====\n",
    "res_df = pd.DataFrame(results)\n",
    "res_df.to_csv(output_csv, index=False)\n",
    "print(f'Tabla guardada en {output_csv}')\n",
    "\n",
    "# ==== ESTADÍSTICA BÁSICA E HISTOGRAMAS ====\n",
    "if not res_df.empty:\n",
    "    print('\\nResumen N_timepoints:')\n",
    "    print(res_df['N_timepoints'].describe())\n",
    "    print('\\nResumen N_ROIs:')\n",
    "    print(res_df['N_ROIs'].describe())\n",
    "\n",
    "    plt.figure(figsize=(10, 4))\n",
    "    plt.subplot(1,2,1)\n",
    "    res_df['N_timepoints'].hist(bins=30)\n",
    "    plt.title('Distribución de Time Points')\n",
    "    plt.xlabel('N_timepoints')\n",
    "    plt.ylabel('Frecuencia')\n",
    "    plt.subplot(1,2,2)\n",
    "    res_df['N_ROIs'].hist(bins=30)\n",
    "    plt.title('Distribución de ROIs')\n",
    "    plt.xlabel('N_ROIs')\n",
    "    plt.ylabel('Frecuencia')\n",
    "    plt.tight_layout()\n",
    "    plt.show()\n",
    "else:\n",
    "    print('No se encontraron datos para graficar.')"
   ]
  },
  {
   "cell_type": "code",
   "execution_count": 2,
   "metadata": {},
   "outputs": [
    {
     "data": {
      "text/plain": [
       "[197, 140, 200]"
      ]
     },
     "execution_count": 2,
     "metadata": {},
     "output_type": "execute_result"
    }
   ],
   "source": [
    "# Extract the top 3 N_timepoints from the histogram plot\n",
    "top_3_timepoints = res_df['N_timepoints'].value_counts().head(3).index.tolist()\n",
    "top_3_timepoints"
   ]
  }
 ],
 "metadata": {
  "kernelspec": {
   "display_name": "Python 3",
   "language": "python",
   "name": "python3"
  },
  "language_info": {
   "codemirror_mode": {
    "name": "ipython",
    "version": 3
   },
   "file_extension": ".py",
   "mimetype": "text/x-python",
   "name": "python",
   "nbconvert_exporter": "python",
   "pygments_lexer": "ipython3",
   "version": "3.8.10"
  }
 },
 "nbformat": 4,
 "nbformat_minor": 2
}
